{
 "cells": [
  {
   "cell_type": "markdown",
   "id": "851ef9d1-1c6a-41f1-bbe4-c92291445032",
   "metadata": {},
   "source": [
    "## Project Details:\n",
    "\n",
    "### Your project, titled \"Maintaining a Grocery List,\" requires you to build a \n",
    "### Python-based system to manage a supermarket shopping list,\n",
    "### ensuring proper budget handling and validation. You must use functions,\n",
    "### loops, if statements, dictionaries, and exception handling as\n",
    "### outlined in the project description."
   ]
  },
  {
   "cell_type": "code",
   "execution_count": 1,
   "id": "e57034fb-c323-4ea8-8d0e-3ac1e270745a",
   "metadata": {},
   "outputs": [
    {
     "name": "stdin",
     "output_type": "stream",
     "text": [
      "Enter your budget:  20000\n"
     ]
    },
    {
     "name": "stdout",
     "output_type": "stream",
     "text": [
      "\n",
      "1. Add item to list\n",
      "2. Display list\n",
      "3. Exit\n"
     ]
    },
    {
     "name": "stdin",
     "output_type": "stream",
     "text": [
      "Enter your choice:  1\n",
      "Enter item name:  toothpaste\n",
      "Enter item price:  3000\n",
      "Enter item quantity:  5\n"
     ]
    },
    {
     "name": "stdout",
     "output_type": "stream",
     "text": [
      "Added toothpaste to the list. Remaining budget: 5000.0\n",
      "\n",
      "1. Add item to list\n",
      "2. Display list\n",
      "3. Exit\n"
     ]
    },
    {
     "name": "stdin",
     "output_type": "stream",
     "text": [
      "Enter your choice:  1\n",
      "Enter item name:  chocolate\n",
      "Enter item price:  5000\n",
      "Enter item quantity:  10\n"
     ]
    },
    {
     "name": "stdout",
     "output_type": "stream",
     "text": [
      "Over price! Not enough budget to add this item.\n",
      "\n",
      "1. Add item to list\n",
      "2. Display list\n",
      "3. Exit\n"
     ]
    },
    {
     "name": "stdin",
     "output_type": "stream",
     "text": [
      "Enter your choice:  2\n"
     ]
    },
    {
     "name": "stdout",
     "output_type": "stream",
     "text": [
      "\n",
      "Grocery List:\n",
      "Item: toothpaste, Price: 3000.0, Quantity: 5\n",
      "\n",
      "Remaining budget: 5000.0\n",
      "\n",
      "1. Add item to list\n",
      "2. Display list\n",
      "3. Exit\n"
     ]
    },
    {
     "name": "stdin",
     "output_type": "stream",
     "text": [
      "Enter your choice:  2\n"
     ]
    },
    {
     "name": "stdout",
     "output_type": "stream",
     "text": [
      "\n",
      "Grocery List:\n",
      "Item: toothpaste, Price: 3000.0, Quantity: 5\n",
      "\n",
      "Remaining budget: 5000.0\n",
      "\n",
      "1. Add item to list\n",
      "2. Display list\n",
      "3. Exit\n"
     ]
    },
    {
     "name": "stdin",
     "output_type": "stream",
     "text": [
      "Enter your choice:  1\n",
      "Enter item name:  spag\n",
      "Enter item price:  50000\n",
      "Enter item quantity:  3\n"
     ]
    },
    {
     "name": "stdout",
     "output_type": "stream",
     "text": [
      "Over price! Not enough budget to add this item.\n",
      "\n",
      "1. Add item to list\n",
      "2. Display list\n",
      "3. Exit\n"
     ]
    },
    {
     "name": "stdin",
     "output_type": "stream",
     "text": [
      "Enter your choice:  1\n",
      "Enter item name:  bag\n",
      "Enter item price:  1000\n",
      "Enter item quantity:  7\n"
     ]
    },
    {
     "name": "stdout",
     "output_type": "stream",
     "text": [
      "Over price! Not enough budget to add this item.\n",
      "\n",
      "1. Add item to list\n",
      "2. Display list\n",
      "3. Exit\n"
     ]
    },
    {
     "name": "stdin",
     "output_type": "stream",
     "text": [
      "Enter your choice:  1\n",
      "Enter item name:  bag\n",
      "Enter item price:  3000\n",
      "Enter item quantity:  1\n"
     ]
    },
    {
     "name": "stdout",
     "output_type": "stream",
     "text": [
      "Added bag to the list. Remaining budget: 2000.0\n",
      "\n",
      "1. Add item to list\n",
      "2. Display list\n",
      "3. Exit\n"
     ]
    },
    {
     "name": "stdin",
     "output_type": "stream",
     "text": [
      "Enter your choice:  1\n",
      "Enter item name:  egg\n",
      "Enter item price:  2000\n",
      "Enter item quantity:  10\n"
     ]
    },
    {
     "name": "stdout",
     "output_type": "stream",
     "text": [
      "Over price! Not enough budget to add this item.\n",
      "\n",
      "1. Add item to list\n",
      "2. Display list\n",
      "3. Exit\n"
     ]
    },
    {
     "name": "stdin",
     "output_type": "stream",
     "text": [
      "Enter your choice:  1\n",
      "Enter item name:  egg\n",
      "Enter item price:  300\n",
      "Enter item quantity:  15\n"
     ]
    },
    {
     "name": "stdout",
     "output_type": "stream",
     "text": [
      "Over price! Not enough budget to add this item.\n",
      "\n",
      "1. Add item to list\n",
      "2. Display list\n",
      "3. Exit\n"
     ]
    },
    {
     "name": "stdin",
     "output_type": "stream",
     "text": [
      "Enter your choice:  3\n"
     ]
    },
    {
     "name": "stdout",
     "output_type": "stream",
     "text": [
      "\n",
      "Grocery List:\n",
      "Item: toothpaste, Price: 3000.0, Quantity: 5\n",
      "Item: bag, Price: 3000.0, Quantity: 1\n",
      "\n",
      "Remaining budget: 2000.0\n"
     ]
    }
   ],
   "source": [
    "def get_budget():\n",
    "    while True:\n",
    "        try:\n",
    "            budget = float(input(\"Enter your budget: \"))\n",
    "            if budget < 0:\n",
    "                print(\"Budget cannot be negative. Please try again.\")\n",
    "            else:\n",
    "                return budget\n",
    "        except ValueError:\n",
    "            print(\"Invalid input. Please enter a valid number.\")\n",
    "\n",
    "def add_item(grocery_list, budget):\n",
    "    name = input(\"Enter item name: \")\n",
    "    while True:\n",
    "        try:\n",
    "            price = float(input(\"Enter item price: \"))\n",
    "            if price < 0:\n",
    "                print(\"Price cannot be negative. Please try again.\")\n",
    "            else:\n",
    "                break\n",
    "        except ValueError:\n",
    "            print(\"Invalid input. Please enter a valid number.\")\n",
    "    while True:\n",
    "        try:\n",
    "            quantity = int(input(\"Enter item quantity: \"))\n",
    "            if quantity < 0:\n",
    "                print(\"Quantity cannot be negative. Please try again.\")\n",
    "            else:\n",
    "                break\n",
    "        except ValueError:\n",
    "            print(\"Invalid input. Please enter a valid integer.\")\n",
    "\n",
    "    total_price = price * quantity\n",
    "    if name in grocery_list:\n",
    "        if total_price <= budget:\n",
    "            grocery_list[name]['quantity'] += quantity\n",
    "            budget -= total_price\n",
    "            print(f\"Updated quantity of {name} to {grocery_list[name]['quantity']}. Remaining budget: {budget}\")\n",
    "            return budget\n",
    "        else:\n",
    "            print(\"Over price! Not enough budget to add this item.\")\n",
    "            return budget\n",
    "    else:\n",
    "        if total_price <= budget:\n",
    "            grocery_list[name] = {'price': price, 'quantity': quantity}\n",
    "            budget -= total_price\n",
    "            print(f\"Added {name} to the list. Remaining budget: {budget}\")\n",
    "            return budget\n",
    "        else:\n",
    "            print(\"Over price! Not enough budget to add this item.\")\n",
    "            return budget\n",
    "\n",
    "def display_list(grocery_list, budget):\n",
    "    print(\"\\nGrocery List:\")\n",
    "    for item, values in grocery_list.items():\n",
    "        print(f\"Item: {item}, Price: {values['price']}, Quantity: {values['quantity']}\")\n",
    "    print(f\"\\nRemaining budget: {budget}\")\n",
    "\n",
    "def main():\n",
    "    budget = get_budget()\n",
    "    grocery_list = {}\n",
    "    while True:\n",
    "        if budget <= 0:\n",
    "            print(\"Budget exhausted! Cannot add more items.\")\n",
    "            display_list(grocery_list, budget)\n",
    "            break\n",
    "        print(\"\\n1. Add item to list\")\n",
    "        print(\"2. Display list\")\n",
    "        print(\"3. Exit\")\n",
    "        choice = input(\"Enter your choice: \")\n",
    "        if choice == '1':\n",
    "            budget = add_item(grocery_list, budget)\n",
    "        elif choice == '2':\n",
    "            display_list(grocery_list, budget)\n",
    "        elif choice == '3':\n",
    "            display_list(grocery_list, budget)\n",
    "            break\n",
    "        else:\n",
    "            print(\"Invalid choice! Please try again.\")\n",
    "\n",
    "if __name__ == \"__main__\":\n",
    "    main()"
   ]
  },
  {
   "cell_type": "code",
   "execution_count": null,
   "id": "71356908-7b34-4b94-9080-9f9bc3f5d7eb",
   "metadata": {},
   "outputs": [],
   "source": []
  }
 ],
 "metadata": {
  "kernelspec": {
   "display_name": "Python 3 (ipykernel)",
   "language": "python",
   "name": "python3"
  },
  "language_info": {
   "codemirror_mode": {
    "name": "ipython",
    "version": 3
   },
   "file_extension": ".py",
   "mimetype": "text/x-python",
   "name": "python",
   "nbconvert_exporter": "python",
   "pygments_lexer": "ipython3",
   "version": "3.12.7"
  }
 },
 "nbformat": 4,
 "nbformat_minor": 5
}
