{
 "cells": [
  {
   "cell_type": "markdown",
   "id": "851ef9d1-1c6a-41f1-bbe4-c92291445032",
   "metadata": {},
   "source": [
    "## Project Details:\n",
    "\n",
    "### Your project, titled \"Maintaining a Grocery List,\" requires you to build a \n",
    "### Python-based system to manage a supermarket shopping list,\n",
    "### ensuring proper budget handling and validation. You must use functions,\n",
    "### loops, if statements, dictionaries, and exception handling as\n",
    "### outlined in the project description."
   ]
  },
  {
   "cell_type": "code",
   "execution_count": 1,
   "id": "e57034fb-c323-4ea8-8d0e-3ac1e270745a",
   "metadata": {},
   "outputs": [
    {
     "name": "stdin",
     "output_type": "stream",
     "text": [
      "Enter your budget:  300000\n"
     ]
    },
    {
     "name": "stdout",
     "output_type": "stream",
     "text": [
      "\n",
      "1. Add item to list\n",
      "2. Display list\n",
      "3. Exit\n"
     ]
    },
    {
     "name": "stdin",
     "output_type": "stream",
     "text": [
      "Enter your choice:  2\n"
     ]
    },
    {
     "name": "stdout",
     "output_type": "stream",
     "text": [
      "\n",
      "Grocery List:\n",
      "\n",
      "Remaining budget: 300000.0\n",
      "\n",
      "1. Add item to list\n",
      "2. Display list\n",
      "3. Exit\n"
     ]
    },
    {
     "name": "stdin",
     "output_type": "stream",
     "text": [
      "Enter your choice:  margarine\n"
     ]
    },
    {
     "name": "stdout",
     "output_type": "stream",
     "text": [
      "Invalid choice! Please try again.\n",
      "\n",
      "1. Add item to list\n",
      "2. Display list\n",
      "3. Exit\n"
     ]
    },
    {
     "name": "stdin",
     "output_type": "stream",
     "text": [
      "Enter your choice:  3\n"
     ]
    },
    {
     "name": "stdout",
     "output_type": "stream",
     "text": [
      "\n",
      "Grocery List:\n",
      "\n",
      "Remaining budget: 300000.0\n"
     ]
    }
   ],
   "source": [
    "def get_budget():\n",
    "    while True:\n",
    "        try:\n",
    "            budget = float(input(\"Enter your budget: \"))\n",
    "            if budget < 0:\n",
    "                print(\"Budget cannot be negative. Please try again.\")\n",
    "            else:\n",
    "                return budget\n",
    "        except ValueError:\n",
    "            print(\"Invalid input. Please enter a valid number.\")\n",
    "\n",
    "def add_item(grocery_list, budget):\n",
    "    name = input(\"Enter item name: \")\n",
    "    while True:\n",
    "        try:\n",
    "            price = float(input(\"Enter item price: \"))\n",
    "            if price < 0:\n",
    "                print(\"Price cannot be negative. Please try again.\")\n",
    "            else:\n",
    "                break\n",
    "        except ValueError:\n",
    "            print(\"Invalid input. Please enter a valid number.\")\n",
    "    while True:\n",
    "        try:\n",
    "            quantity = int(input(\"Enter item quantity: \"))\n",
    "            if quantity < 0:\n",
    "                print(\"Quantity cannot be negative. Please try again.\")\n",
    "            else:\n",
    "                break\n",
    "        except ValueError:\n",
    "            print(\"Invalid input. Please enter a valid integer.\")\n",
    "\n",
    "    total_price = price * quantity\n",
    "    if name in grocery_list:\n",
    "        if total_price <= budget:\n",
    "            grocery_list[name]['quantity'] += quantity\n",
    "            budget -= total_price\n",
    "            print(f\"Updated quantity of {name} to {grocery_list[name]['quantity']}. Remaining budget: {budget}\")\n",
    "            return budget\n",
    "        else:\n",
    "            print(\"Over price! Not enough budget to add this item.\")\n",
    "            return budget\n",
    "    else:\n",
    "        if total_price <= budget:\n",
    "            grocery_list[name] = {'price': price, 'quantity': quantity}\n",
    "            budget -= total_price\n",
    "            print(f\"Added {name} to the list. Remaining budget: {budget}\")\n",
    "            return budget\n",
    "        else:\n",
    "            print(\"Over price! Not enough budget to add this item.\")\n",
    "            return budget\n",
    "\n",
    "def display_list(grocery_list, budget):\n",
    "    print(\"\\nGrocery List:\")\n",
    "    for item, values in grocery_list.items():\n",
    "        print(f\"Item: {item}, Price: {values['price']}, Quantity: {values['quantity']}\")\n",
    "    print(f\"\\nRemaining budget: {budget}\")\n",
    "\n",
    "def main():\n",
    "    budget = get_budget()\n",
    "    grocery_list = {}\n",
    "    while True:\n",
    "        if budget <= 0:\n",
    "            print(\"Budget exhausted! Cannot add more items.\")\n",
    "            display_list(grocery_list, budget)\n",
    "            break\n",
    "        print(\"\\n1. Add item to list\")\n",
    "        print(\"2. Display list\")\n",
    "        print(\"3. Exit\")\n",
    "        choice = input(\"Enter your choice: \")\n",
    "        if choice == '1':\n",
    "            budget = add_item(grocery_list, budget)\n",
    "        elif choice == '2':\n",
    "            display_list(grocery_list, budget)\n",
    "        elif choice == '3':\n",
    "            display_list(grocery_list, budget)\n",
    "            break\n",
    "        else:\n",
    "            print(\"Invalid choice! Please try again.\")\n",
    "\n",
    "if __name__ == \"__main__\":\n",
    "    main()"
   ]
  },
  {
   "cell_type": "code",
   "execution_count": 4,
   "id": "71356908-7b34-4b94-9080-9f9bc3f5d7eb",
   "metadata": {},
   "outputs": [
    {
     "name": "stdin",
     "output_type": "stream",
     "text": [
      "Enter your budget:  5000\n"
     ]
    },
    {
     "name": "stdout",
     "output_type": "stream",
     "text": [
      "\n",
      "1. Add item to list\n",
      "2. Display list\n",
      "3. Exit\n"
     ]
    },
    {
     "name": "stdin",
     "output_type": "stream",
     "text": [
      "Enter your choice:  toothpaste\n"
     ]
    },
    {
     "name": "stdout",
     "output_type": "stream",
     "text": [
      "Invalid choice! Please try again.\n",
      "\n",
      "1. Add item to list\n",
      "2. Display list\n",
      "3. Exit\n"
     ]
    },
    {
     "name": "stdin",
     "output_type": "stream",
     "text": [
      "Enter your choice:  2\n"
     ]
    },
    {
     "name": "stdout",
     "output_type": "stream",
     "text": [
      "\n",
      "Grocery List:\n",
      "\n",
      "Remaining budget: 5000.0\n",
      "\n",
      "1. Add item to list\n",
      "2. Display list\n",
      "3. Exit\n"
     ]
    },
    {
     "name": "stdin",
     "output_type": "stream",
     "text": [
      "Enter your choice:  toothpaste\n"
     ]
    },
    {
     "name": "stdout",
     "output_type": "stream",
     "text": [
      "Invalid choice! Please try again.\n",
      "\n",
      "1. Add item to list\n",
      "2. Display list\n",
      "3. Exit\n"
     ]
    },
    {
     "name": "stdin",
     "output_type": "stream",
     "text": [
      "Enter your choice:  1\n",
      "Enter item name:  toothpaste\n",
      "Enter item price:  2000\n",
      "Enter item quantity:  2\n"
     ]
    },
    {
     "name": "stdout",
     "output_type": "stream",
     "text": [
      "Added toothpaste to the list. Remaining budget: 1000.0\n",
      "\n",
      "1. Add item to list\n",
      "2. Display list\n",
      "3. Exit\n"
     ]
    },
    {
     "name": "stdin",
     "output_type": "stream",
     "text": [
      "Enter your choice:  3\n"
     ]
    },
    {
     "name": "stdout",
     "output_type": "stream",
     "text": [
      "\n",
      "Grocery List:\n",
      "Item: toothpaste, Price: 2000.0, Quantity: 2\n",
      "\n",
      "Remaining budget: 1000.0\n"
     ]
    }
   ],
   "source": [
    "def get_budget():\n",
    "    while True:\n",
    "        try:\n",
    "            budget = float(input(\"Enter your budget: \"))\n",
    "            if budget < 0:\n",
    "                print(\"Budget cannot be negative. Please try again.\")\n",
    "            else:\n",
    "                return budget\n",
    "        except ValueError:\n",
    "            print(\"Invalid input. Please enter a valid number.\")\n",
    "\n",
    "def add_item(grocery_list, budget):\n",
    "    name = input(\"Enter item name: \")\n",
    "    while True:\n",
    "        try:\n",
    "            price = float(input(\"Enter item price: \"))\n",
    "            if price < 0:\n",
    "                print(\"Price cannot be negative. Please try again.\")\n",
    "            else:\n",
    "                break\n",
    "        except ValueError:\n",
    "            print(\"Invalid input. Please enter a valid number.\")\n",
    "    while True:\n",
    "        try:\n",
    "            quantity = int(input(\"Enter item quantity: \"))\n",
    "            if quantity < 0:\n",
    "                print(\"Quantity cannot be negative. Please try again.\")\n",
    "            else:\n",
    "                break\n",
    "        except ValueError:\n",
    "            print(\"Invalid input. Please enter a valid integer.\")\n",
    "\n",
    "    total_price = price * quantity\n",
    "    if name in grocery_list:\n",
    "        if total_price <= budget:\n",
    "            grocery_list[name]['quantity'] += quantity\n",
    "            budget -= total_price\n",
    "            print(f\"Updated quantity of {name} to {grocery_list[name]['quantity']}. Remaining budget: {budget}\")\n",
    "            return budget\n",
    "        else:\n",
    "            print(\"Over price! Not enough budget to add this item.\")\n",
    "            return budget\n",
    "    else:\n",
    "        if total_price <= budget:\n",
    "            grocery_list[name] = {'price': price, 'quantity': quantity}\n",
    "            budget -= total_price\n",
    "            print(f\"Added {name} to the list. Remaining budget: {budget}\")\n",
    "            return budget\n",
    "        else:\n",
    "            print(\"Over price! Not enough budget to add this item.\")\n",
    "            return budget\n",
    "\n",
    "def display_list(grocery_list, budget):\n",
    "    print(\"\\nGrocery List:\")\n",
    "    for item, values in grocery_list.items():\n",
    "        print(f\"Item: {item}, Price: {values['price']}, Quantity: {values['quantity']}\")\n",
    "    print(f\"\\nRemaining budget: {budget}\")\n",
    "\n",
    "def main():\n",
    "    budget = get_budget()\n",
    "    grocery_list = {}\n",
    "    while True:\n",
    "        if budget <= 0:\n",
    "            print(\"Budget exhausted! Cannot add more items.\")\n",
    "            display_list(grocery_list, budget)\n",
    "            break\n",
    "        print(\"\\n1. Add item to list\")\n",
    "        print(\"2. Display list\")\n",
    "        print(\"3. Exit\")\n",
    "        choice = input(\"Enter your choice: \")\n",
    "        if choice == '1':\n",
    "            budget = add_item(grocery_list, budget)\n",
    "        elif choice == '2':\n",
    "            display_list(grocery_list, budget)\n",
    "        elif choice == '3':\n",
    "            display_list(grocery_list, budget)\n",
    "            break\n",
    "        else:\n",
    "            print(\"Invalid choice! Please try again.\")\n",
    "\n",
    "if __name__ == \"__main__\":\n",
    "    main()"
   ]
  },
  {
   "cell_type": "code",
   "execution_count": 5,
   "id": "13e48308-4048-4e05-84a1-39ac0a650791",
   "metadata": {},
   "outputs": [
    {
     "name": "stdin",
     "output_type": "stream",
     "text": [
      "Enter your budget:  50000\n"
     ]
    },
    {
     "name": "stdout",
     "output_type": "stream",
     "text": [
      "\n",
      "1. Add item to list\n",
      "2. Display list\n",
      "3. Exit\n"
     ]
    },
    {
     "name": "stdin",
     "output_type": "stream",
     "text": [
      "Enter your choice:  1\n",
      "Enter item name:  vegetable\n",
      "Enter item price:  1500\n",
      "Enter item quantity:  20\n"
     ]
    },
    {
     "name": "stdout",
     "output_type": "stream",
     "text": [
      "Added vegetable to the list. Remaining budget: 20000.0\n",
      "\n",
      "1. Add item to list\n",
      "2. Display list\n",
      "3. Exit\n"
     ]
    },
    {
     "name": "stdin",
     "output_type": "stream",
     "text": [
      "Enter your choice:  2\n"
     ]
    },
    {
     "name": "stdout",
     "output_type": "stream",
     "text": [
      "\n",
      "Grocery List:\n",
      "Item: vegetable, Price: 1500.0, Quantity: 20\n",
      "\n",
      "Remaining budget: 20000.0\n",
      "\n",
      "1. Add item to list\n",
      "2. Display list\n",
      "3. Exit\n"
     ]
    },
    {
     "name": "stdin",
     "output_type": "stream",
     "text": [
      "Enter your choice:  3\n"
     ]
    },
    {
     "name": "stdout",
     "output_type": "stream",
     "text": [
      "\n",
      "Grocery List:\n",
      "Item: vegetable, Price: 1500.0, Quantity: 20\n",
      "\n",
      "Remaining budget: 20000.0\n"
     ]
    }
   ],
   "source": [
    "def get_budget():\n",
    "    while True:\n",
    "        try:\n",
    "            budget = float(input(\"Enter your budget: \"))\n",
    "            if budget < 0:\n",
    "                print(\"Budget cannot be negative. Please try again.\")\n",
    "            else:\n",
    "                return budget\n",
    "        except ValueError:\n",
    "            print(\"Invalid input. Please enter a valid number.\")\n",
    "\n",
    "def add_item(grocery_list, budget):\n",
    "    name = input(\"Enter item name: \")\n",
    "    while True:\n",
    "        try:\n",
    "            price = float(input(\"Enter item price: \"))\n",
    "            if price < 0:\n",
    "                print(\"Price cannot be negative. Please try again.\")\n",
    "            else:\n",
    "                break\n",
    "        except ValueError:\n",
    "            print(\"Invalid input. Please enter a valid number.\")\n",
    "    while True:\n",
    "        try:\n",
    "            quantity = int(input(\"Enter item quantity: \"))\n",
    "            if quantity < 0:\n",
    "                print(\"Quantity cannot be negative. Please try again.\")\n",
    "            else:\n",
    "                break\n",
    "        except ValueError:\n",
    "            print(\"Invalid input. Please enter a valid integer.\")\n",
    "\n",
    "    total_price = price * quantity\n",
    "    if name in grocery_list:\n",
    "        if total_price <= budget:\n",
    "            grocery_list[name]['quantity'] += quantity\n",
    "            budget -= total_price\n",
    "            print(f\"Updated quantity of {name} to {grocery_list[name]['quantity']}. Remaining budget: {budget}\")\n",
    "            return budget\n",
    "        else:\n",
    "            print(\"Over price! Not enough budget to add this item.\")\n",
    "            return budget\n",
    "    else:\n",
    "        if total_price <= budget:\n",
    "            grocery_list[name] = {'price': price, 'quantity': quantity}\n",
    "            budget -= total_price\n",
    "            print(f\"Added {name} to the list. Remaining budget: {budget}\")\n",
    "            return budget\n",
    "        else:\n",
    "            print(\"Over price! Not enough budget to add this item.\")\n",
    "            return budget\n",
    "\n",
    "def display_list(grocery_list, budget):\n",
    "    print(\"\\nGrocery List:\")\n",
    "    for item, values in grocery_list.items():\n",
    "        print(f\"Item: {item}, Price: {values['price']}, Quantity: {values['quantity']}\")\n",
    "    print(f\"\\nRemaining budget: {budget}\")\n",
    "\n",
    "def main():\n",
    "    budget = get_budget()\n",
    "    grocery_list = {}\n",
    "    while True:\n",
    "        if budget <= 0:\n",
    "            print(\"Budget exhausted! Cannot add more items.\")\n",
    "            display_list(grocery_list, budget)\n",
    "            break\n",
    "        print(\"\\n1. Add item to list\")\n",
    "        print(\"2. Display list\")\n",
    "        print(\"3. Exit\")\n",
    "        choice = input(\"Enter your choice: \")\n",
    "        if choice == '1':\n",
    "            budget = add_item(grocery_list, budget)\n",
    "        elif choice == '2':\n",
    "            display_list(grocery_list, budget)\n",
    "        elif choice == '3':\n",
    "            display_list(grocery_list, budget)\n",
    "            break\n",
    "        else:\n",
    "            print(\"Invalid choice! Please try again.\")\n",
    "\n",
    "if __name__ == \"__main__\":\n",
    "    main()"
   ]
  },
  {
   "cell_type": "code",
   "execution_count": 6,
   "id": "ed9e3e6f-d27f-47d5-bd8c-62677aacba1b",
   "metadata": {},
   "outputs": [
    {
     "name": "stdin",
     "output_type": "stream",
     "text": [
      "Enter your budget:  500000\n"
     ]
    },
    {
     "name": "stdout",
     "output_type": "stream",
     "text": [
      "\n",
      "1. Add item to list\n",
      "2. Display list\n",
      "3. Exit\n"
     ]
    },
    {
     "name": "stdin",
     "output_type": "stream",
     "text": [
      "Enter your choice:  1\n",
      "Enter item name:  milk\n",
      "Enter item price:  1200\n",
      "Enter item quantity:  50\n"
     ]
    },
    {
     "name": "stdout",
     "output_type": "stream",
     "text": [
      "Added milk to the list. Remaining budget: 440000.0\n",
      "\n",
      "1. Add item to list\n",
      "2. Display list\n",
      "3. Exit\n"
     ]
    },
    {
     "name": "stdin",
     "output_type": "stream",
     "text": [
      "Enter your choice:  1\n",
      "Enter item name:  spagetti\n",
      "Enter item price:  1200\n",
      "Enter item quantity:  100\n"
     ]
    },
    {
     "name": "stdout",
     "output_type": "stream",
     "text": [
      "Added spagetti to the list. Remaining budget: 320000.0\n",
      "\n",
      "1. Add item to list\n",
      "2. Display list\n",
      "3. Exit\n"
     ]
    },
    {
     "name": "stdin",
     "output_type": "stream",
     "text": [
      "Enter your choice:  1\n",
      "Enter item name:  rice\n",
      "Enter item price:  30000\n",
      "Enter item quantity:  1\n"
     ]
    },
    {
     "name": "stdout",
     "output_type": "stream",
     "text": [
      "Added rice to the list. Remaining budget: 290000.0\n",
      "\n",
      "1. Add item to list\n",
      "2. Display list\n",
      "3. Exit\n"
     ]
    },
    {
     "name": "stdin",
     "output_type": "stream",
     "text": [
      "Enter your choice:  3\n"
     ]
    },
    {
     "name": "stdout",
     "output_type": "stream",
     "text": [
      "\n",
      "Grocery List:\n",
      "Item: milk, Price: 1200.0, Quantity: 50\n",
      "Item: spagetti, Price: 1200.0, Quantity: 100\n",
      "Item: rice, Price: 30000.0, Quantity: 1\n",
      "\n",
      "Remaining budget: 290000.0\n"
     ]
    }
   ],
   "source": [
    "def get_budget():\n",
    "    while True:\n",
    "        try:\n",
    "            budget = float(input(\"Enter your budget: \"))\n",
    "            if budget < 0:\n",
    "                print(\"Budget cannot be negative. Please try again.\")\n",
    "            else:\n",
    "                return budget\n",
    "        except ValueError:\n",
    "            print(\"Invalid input. Please enter a valid number.\")\n",
    "\n",
    "def add_item(grocery_list, budget):\n",
    "    name = input(\"Enter item name: \")\n",
    "    while True:\n",
    "        try:\n",
    "            price = float(input(\"Enter item price: \"))\n",
    "            if price < 0:\n",
    "                print(\"Price cannot be negative. Please try again.\")\n",
    "            else:\n",
    "                break\n",
    "        except ValueError:\n",
    "            print(\"Invalid input. Please enter a valid number.\")\n",
    "    while True:\n",
    "        try:\n",
    "            quantity = int(input(\"Enter item quantity: \"))\n",
    "            if quantity < 0:\n",
    "                print(\"Quantity cannot be negative. Please try again.\")\n",
    "            else:\n",
    "                break\n",
    "        except ValueError:\n",
    "            print(\"Invalid input. Please enter a valid integer.\")\n",
    "\n",
    "    total_price = price * quantity\n",
    "    if name in grocery_list:\n",
    "        if total_price <= budget:\n",
    "            grocery_list[name]['quantity'] += quantity\n",
    "            budget -= total_price\n",
    "            print(f\"Updated quantity of {name} to {grocery_list[name]['quantity']}. Remaining budget: {budget}\")\n",
    "            return budget\n",
    "        else:\n",
    "            print(\"Over price! Not enough budget to add this item.\")\n",
    "            return budget\n",
    "    else:\n",
    "        if total_price <= budget:\n",
    "            grocery_list[name] = {'price': price, 'quantity': quantity}\n",
    "            budget -= total_price\n",
    "            print(f\"Added {name} to the list. Remaining budget: {budget}\")\n",
    "            return budget\n",
    "        else:\n",
    "            print(\"Over price! Not enough budget to add this item.\")\n",
    "            return budget\n",
    "\n",
    "def display_list(grocery_list, budget):\n",
    "    print(\"\\nGrocery List:\")\n",
    "    for item, values in grocery_list.items():\n",
    "        print(f\"Item: {item}, Price: {values['price']}, Quantity: {values['quantity']}\")\n",
    "    print(f\"\\nRemaining budget: {budget}\")\n",
    "\n",
    "def main():\n",
    "    budget = get_budget()\n",
    "    grocery_list = {}\n",
    "    while True:\n",
    "        if budget <= 0:\n",
    "            print(\"Budget exhausted! Cannot add more items.\")\n",
    "            display_list(grocery_list, budget)\n",
    "            break\n",
    "        print(\"\\n1. Add item to list\")\n",
    "        print(\"2. Display list\")\n",
    "        print(\"3. Exit\")\n",
    "        choice = input(\"Enter your choice: \")\n",
    "        if choice == '1':\n",
    "            budget = add_item(grocery_list, budget)\n",
    "        elif choice == '2':\n",
    "            display_list(grocery_list, budget)\n",
    "        elif choice == '3':\n",
    "            display_list(grocery_list, budget)\n",
    "            break\n",
    "        else:\n",
    "            print(\"Invalid choice! Please try again.\")\n",
    "\n",
    "if __name__ == \"__main__\":\n",
    "    main()"
   ]
  },
  {
   "cell_type": "code",
   "execution_count": 7,
   "id": "223557ab-f0dd-4e19-b2af-c00b4efc4b9f",
   "metadata": {},
   "outputs": [
    {
     "name": "stdin",
     "output_type": "stream",
     "text": [
      "Enter your budget:  100000\n"
     ]
    },
    {
     "name": "stdout",
     "output_type": "stream",
     "text": [
      "\n",
      "1. Add item to list\n",
      "2. Display list\n",
      "3. Exit\n"
     ]
    },
    {
     "name": "stdin",
     "output_type": "stream",
     "text": [
      "Enter your choice:  1\n",
      "Enter item name:  bag\n",
      "Enter item price:  50000\n",
      "Enter item quantity:  2\n"
     ]
    },
    {
     "name": "stdout",
     "output_type": "stream",
     "text": [
      "Added bag to the list. Remaining budget: 0.0\n",
      "Budget exhausted! Cannot add more items.\n",
      "\n",
      "Grocery List:\n",
      "Item: bag, Price: 50000.0, Quantity: 2\n",
      "\n",
      "Remaining budget: 0.0\n"
     ]
    }
   ],
   "source": [
    "def get_budget():\n",
    "    while True:\n",
    "        try:\n",
    "            budget = float(input(\"Enter your budget: \"))\n",
    "            if budget < 0:\n",
    "                print(\"Budget cannot be negative. Please try again.\")\n",
    "            else:\n",
    "                return budget\n",
    "        except ValueError:\n",
    "            print(\"Invalid input. Please enter a valid number.\")\n",
    "\n",
    "def add_item(grocery_list, budget):\n",
    "    name = input(\"Enter item name: \")\n",
    "    while True:\n",
    "        try:\n",
    "            price = float(input(\"Enter item price: \"))\n",
    "            if price < 0:\n",
    "                print(\"Price cannot be negative. Please try again.\")\n",
    "            else:\n",
    "                break\n",
    "        except ValueError:\n",
    "            print(\"Invalid input. Please enter a valid number.\")\n",
    "    while True:\n",
    "        try:\n",
    "            quantity = int(input(\"Enter item quantity: \"))\n",
    "            if quantity < 0:\n",
    "                print(\"Quantity cannot be negative. Please try again.\")\n",
    "            else:\n",
    "                break\n",
    "        except ValueError:\n",
    "            print(\"Invalid input. Please enter a valid integer.\")\n",
    "\n",
    "    total_price = price * quantity\n",
    "    if name in grocery_list:\n",
    "        if total_price <= budget:\n",
    "            grocery_list[name]['quantity'] += quantity\n",
    "            budget -= total_price\n",
    "            print(f\"Updated quantity of {name} to {grocery_list[name]['quantity']}. Remaining budget: {budget}\")\n",
    "            return budget\n",
    "        else:\n",
    "            print(\"Over price! Not enough budget to add this item.\")\n",
    "            return budget\n",
    "    else:\n",
    "        if total_price <= budget:\n",
    "            grocery_list[name] = {'price': price, 'quantity': quantity}\n",
    "            budget -= total_price\n",
    "            print(f\"Added {name} to the list. Remaining budget: {budget}\")\n",
    "            return budget\n",
    "        else:\n",
    "            print(\"Over price! Not enough budget to add this item.\")\n",
    "            return budget\n",
    "\n",
    "def display_list(grocery_list, budget):\n",
    "    print(\"\\nGrocery List:\")\n",
    "    for item, values in grocery_list.items():\n",
    "        print(f\"Item: {item}, Price: {values['price']}, Quantity: {values['quantity']}\")\n",
    "    print(f\"\\nRemaining budget: {budget}\")\n",
    "\n",
    "def main():\n",
    "    budget = get_budget()\n",
    "    grocery_list = {}\n",
    "    while True:\n",
    "        if budget <= 0:\n",
    "            print(\"Budget exhausted! Cannot add more items.\")\n",
    "            display_list(grocery_list, budget)\n",
    "            break\n",
    "        print(\"\\n1. Add item to list\")\n",
    "        print(\"2. Display list\")\n",
    "        print(\"3. Exit\")\n",
    "        choice = input(\"Enter your choice: \")\n",
    "        if choice == '1':\n",
    "            budget = add_item(grocery_list, budget)\n",
    "        elif choice == '2':\n",
    "            display_list(grocery_list, budget)\n",
    "        elif choice == '3':\n",
    "            display_list(grocery_list, budget)\n",
    "            break\n",
    "        else:\n",
    "            print(\"Invalid choice! Please try again.\")\n",
    "\n",
    "if __name__ == \"__main__\":\n",
    "    main()"
   ]
  },
  {
   "cell_type": "code",
   "execution_count": 11,
   "id": "c46a2275-03de-4ece-a7f4-0e6bce801741",
   "metadata": {},
   "outputs": [
    {
     "name": "stdin",
     "output_type": "stream",
     "text": [
      "Enter your budget:  200000\n"
     ]
    },
    {
     "name": "stdout",
     "output_type": "stream",
     "text": [
      "\n",
      "1. Add item to list\n",
      "2. Display list\n",
      "3. Exit\n"
     ]
    },
    {
     "name": "stdin",
     "output_type": "stream",
     "text": [
      "Enter your choice:  2\n"
     ]
    },
    {
     "name": "stdout",
     "output_type": "stream",
     "text": [
      "\n",
      "Grocery List:\n",
      "\n",
      "Remaining budget: 200000.0\n",
      "\n",
      "1. Add item to list\n",
      "2. Display list\n",
      "3. Exit\n"
     ]
    },
    {
     "name": "stdin",
     "output_type": "stream",
     "text": [
      "Enter your choice:  1\n",
      "Enter item name:  semovita\n",
      "Enter item price:  57000\n",
      "Enter item quantity:  3\n"
     ]
    },
    {
     "name": "stdout",
     "output_type": "stream",
     "text": [
      "Added semovita to the list. Remaining budget: 29000.0\n",
      "\n",
      "1. Add item to list\n",
      "2. Display list\n",
      "3. Exit\n"
     ]
    },
    {
     "name": "stdin",
     "output_type": "stream",
     "text": [
      "Enter your choice:  1\n",
      "Enter item name:  wheat\n",
      "Enter item price:  15000\n",
      "Enter item quantity:  1\n"
     ]
    },
    {
     "name": "stdout",
     "output_type": "stream",
     "text": [
      "Added wheat to the list. Remaining budget: 14000.0\n",
      "\n",
      "1. Add item to list\n",
      "2. Display list\n",
      "3. Exit\n"
     ]
    },
    {
     "name": "stdin",
     "output_type": "stream",
     "text": [
      "Enter your choice:  2\n"
     ]
    },
    {
     "name": "stdout",
     "output_type": "stream",
     "text": [
      "\n",
      "Grocery List:\n",
      "Item: semovita, Price: 57000.0, Quantity: 3\n",
      "Item: wheat, Price: 15000.0, Quantity: 1\n",
      "\n",
      "Remaining budget: 14000.0\n",
      "\n",
      "1. Add item to list\n",
      "2. Display list\n",
      "3. Exit\n"
     ]
    },
    {
     "name": "stdin",
     "output_type": "stream",
     "text": [
      "Enter your choice:  toy\n"
     ]
    },
    {
     "name": "stdout",
     "output_type": "stream",
     "text": [
      "Invalid choice! Please try again.\n",
      "\n",
      "1. Add item to list\n",
      "2. Display list\n",
      "3. Exit\n"
     ]
    },
    {
     "name": "stdin",
     "output_type": "stream",
     "text": [
      "Enter your choice:  1\n",
      "Enter item name:  toy\n",
      "Enter item price:  17000\n",
      "Enter item quantity:  1\n"
     ]
    },
    {
     "name": "stdout",
     "output_type": "stream",
     "text": [
      "Over price! Not enough budget to add this item.\n",
      "\n",
      "1. Add item to list\n",
      "2. Display list\n",
      "3. Exit\n"
     ]
    },
    {
     "name": "stdin",
     "output_type": "stream",
     "text": [
      "Enter your choice:  3\n"
     ]
    },
    {
     "name": "stdout",
     "output_type": "stream",
     "text": [
      "\n",
      "Grocery List:\n",
      "Item: semovita, Price: 57000.0, Quantity: 3\n",
      "Item: wheat, Price: 15000.0, Quantity: 1\n",
      "\n",
      "Remaining budget: 14000.0\n"
     ]
    }
   ],
   "source": [
    "def get_budget():\n",
    "    while True:\n",
    "        try:\n",
    "            budget = float(input(\"Enter your budget: \"))\n",
    "            if budget < 0:\n",
    "                print(\"Budget cannot be negative. Please try again.\")\n",
    "            else:\n",
    "                return budget\n",
    "        except ValueError:\n",
    "            print(\"Invalid input. Please enter a valid number.\")\n",
    "\n",
    "def add_item(grocery_list, budget):\n",
    "    name = input(\"Enter item name: \")\n",
    "    while True:\n",
    "        try:\n",
    "            price = float(input(\"Enter item price: \"))\n",
    "            if price < 0:\n",
    "                print(\"Price cannot be negative. Please try again.\")\n",
    "            else:\n",
    "                break\n",
    "        except ValueError:\n",
    "            print(\"Invalid input. Please enter a valid number.\")\n",
    "    while True:\n",
    "        try:\n",
    "            quantity = int(input(\"Enter item quantity: \"))\n",
    "            if quantity < 0:\n",
    "                print(\"Quantity cannot be negative. Please try again.\")\n",
    "            else:\n",
    "                break\n",
    "        except ValueError:\n",
    "            print(\"Invalid input. Please enter a valid integer.\")\n",
    "\n",
    "    total_price = price * quantity\n",
    "    if name in grocery_list:\n",
    "        if total_price <= budget:\n",
    "            grocery_list[name]['quantity'] += quantity\n",
    "            budget -= total_price\n",
    "            print(f\"Updated quantity of {name} to {grocery_list[name]['quantity']}. Remaining budget: {budget}\")\n",
    "            return budget\n",
    "        else:\n",
    "            print(\"Over price! Not enough budget to add this item.\")\n",
    "            return budget\n",
    "    else:\n",
    "        if total_price <= budget:\n",
    "            grocery_list[name] = {'price': price, 'quantity': quantity}\n",
    "            budget -= total_price\n",
    "            print(f\"Added {name} to the list. Remaining budget: {budget}\")\n",
    "            return budget\n",
    "        else:\n",
    "            print(\"Over price! Not enough budget to add this item.\")\n",
    "            return budget\n",
    "\n",
    "def display_list(grocery_list, budget):\n",
    "    print(\"\\nGrocery List:\")\n",
    "    for item, values in grocery_list.items():\n",
    "        print(f\"Item: {item}, Price: {values['price']}, Quantity: {values['quantity']}\")\n",
    "    print(f\"\\nRemaining budget: {budget}\")\n",
    "\n",
    "def main():\n",
    "    budget = get_budget()\n",
    "    grocery_list = {}\n",
    "    while True:\n",
    "        if budget <= 0:\n",
    "            print(\"Budget exhausted! Cannot add more items.\")\n",
    "            display_list(grocery_list, budget)\n",
    "            break\n",
    "        print(\"\\n1. Add item to list\")\n",
    "        print(\"2. Display list\")\n",
    "        print(\"3. Exit\")\n",
    "        choice = input(\"Enter your choice: \")\n",
    "        if choice == '1':\n",
    "            budget = add_item(grocery_list, budget)\n",
    "        elif choice == '2':\n",
    "            display_list(grocery_list, budget)\n",
    "        elif choice == '3':\n",
    "            display_list(grocery_list, budget)\n",
    "            break\n",
    "        else:\n",
    "            print(\"Invalid choice! Please try again.\")\n",
    "\n",
    "if __name__ == \"__main__\":\n",
    "    main()"
   ]
  },
  {
   "cell_type": "code",
   "execution_count": 12,
   "id": "b2e9f551-f3e1-44e4-b3e6-d926cfa7f929",
   "metadata": {},
   "outputs": [
    {
     "name": "stdin",
     "output_type": "stream",
     "text": [
      "Enter your budget:  150000\n"
     ]
    },
    {
     "name": "stdout",
     "output_type": "stream",
     "text": [
      "\n",
      "1. Add item to list\n",
      "2. Display list\n",
      "3. Exit\n"
     ]
    },
    {
     "name": "stdin",
     "output_type": "stream",
     "text": [
      "Enter your choice:  1\n",
      "Enter item name:  ice cream\n",
      "Enter item price:  5000\n",
      "Enter item quantity:  10\n"
     ]
    },
    {
     "name": "stdout",
     "output_type": "stream",
     "text": [
      "Added ice cream to the list. Remaining budget: 100000.0\n",
      "\n",
      "1. Add item to list\n",
      "2. Display list\n",
      "3. Exit\n"
     ]
    },
    {
     "name": "stdin",
     "output_type": "stream",
     "text": [
      "Enter your choice:  1\n",
      "Enter item name:  pot\n",
      "Enter item price:  32000\n",
      "Enter item quantity:  2\n"
     ]
    },
    {
     "name": "stdout",
     "output_type": "stream",
     "text": [
      "Added pot to the list. Remaining budget: 36000.0\n",
      "\n",
      "1. Add item to list\n",
      "2. Display list\n",
      "3. Exit\n"
     ]
    },
    {
     "name": "stdin",
     "output_type": "stream",
     "text": [
      "Enter your choice:  2\n"
     ]
    },
    {
     "name": "stdout",
     "output_type": "stream",
     "text": [
      "\n",
      "Grocery List:\n",
      "Item: ice cream, Price: 5000.0, Quantity: 10\n",
      "Item: pot, Price: 32000.0, Quantity: 2\n",
      "\n",
      "Remaining budget: 36000.0\n",
      "\n",
      "1. Add item to list\n",
      "2. Display list\n",
      "3. Exit\n"
     ]
    },
    {
     "name": "stdin",
     "output_type": "stream",
     "text": [
      "Enter your choice:  3\n"
     ]
    },
    {
     "name": "stdout",
     "output_type": "stream",
     "text": [
      "\n",
      "Grocery List:\n",
      "Item: ice cream, Price: 5000.0, Quantity: 10\n",
      "Item: pot, Price: 32000.0, Quantity: 2\n",
      "\n",
      "Remaining budget: 36000.0\n"
     ]
    }
   ],
   "source": [
    "def get_budget():\n",
    "    while True:\n",
    "        try:\n",
    "            budget = float(input(\"Enter your budget: \"))\n",
    "            if budget < 0:\n",
    "                print(\"Budget cannot be negative. Please try again.\")\n",
    "            else:\n",
    "                return budget\n",
    "        except ValueError:\n",
    "            print(\"Invalid input. Please enter a valid number.\")\n",
    "\n",
    "def add_item(grocery_list, budget):\n",
    "    name = input(\"Enter item name: \")\n",
    "    while True:\n",
    "        try:\n",
    "            price = float(input(\"Enter item price: \"))\n",
    "            if price < 0:\n",
    "                print(\"Price cannot be negative. Please try again.\")\n",
    "            else:\n",
    "                break\n",
    "        except ValueError:\n",
    "            print(\"Invalid input. Please enter a valid number.\")\n",
    "    while True:\n",
    "        try:\n",
    "            quantity = int(input(\"Enter item quantity: \"))\n",
    "            if quantity < 0:\n",
    "                print(\"Quantity cannot be negative. Please try again.\")\n",
    "            else:\n",
    "                break\n",
    "        except ValueError:\n",
    "            print(\"Invalid input. Please enter a valid integer.\")\n",
    "\n",
    "    total_price = price * quantity\n",
    "    if name in grocery_list:\n",
    "        if total_price <= budget:\n",
    "            grocery_list[name]['quantity'] += quantity\n",
    "            budget -= total_price\n",
    "            print(f\"Updated quantity of {name} to {grocery_list[name]['quantity']}. Remaining budget: {budget}\")\n",
    "            return budget\n",
    "        else:\n",
    "            print(\"Over price! Not enough budget to add this item.\")\n",
    "            return budget\n",
    "    else:\n",
    "        if total_price <= budget:\n",
    "            grocery_list[name] = {'price': price, 'quantity': quantity}\n",
    "            budget -= total_price\n",
    "            print(f\"Added {name} to the list. Remaining budget: {budget}\")\n",
    "            return budget\n",
    "        else:\n",
    "            print(\"Over price! Not enough budget to add this item.\")\n",
    "            return budget\n",
    "\n",
    "def display_list(grocery_list, budget):\n",
    "    print(\"\\nGrocery List:\")\n",
    "    for item, values in grocery_list.items():\n",
    "        print(f\"Item: {item}, Price: {values['price']}, Quantity: {values['quantity']}\")\n",
    "    print(f\"\\nRemaining budget: {budget}\")\n",
    "\n",
    "def main():\n",
    "    budget = get_budget()\n",
    "    grocery_list = {}\n",
    "    while True:\n",
    "        if budget <= 0:\n",
    "            print(\"Budget exhausted! Cannot add more items.\")\n",
    "            display_list(grocery_list, budget)\n",
    "            break\n",
    "        print(\"\\n1. Add item to list\")\n",
    "        print(\"2. Display list\")\n",
    "        print(\"3. Exit\")\n",
    "        choice = input(\"Enter your choice: \")\n",
    "        if choice == '1':\n",
    "            budget = add_item(grocery_list, budget)\n",
    "        elif choice == '2':\n",
    "            display_list(grocery_list, budget)\n",
    "        elif choice == '3':\n",
    "            display_list(grocery_list, budget)\n",
    "            break\n",
    "        else:\n",
    "            print(\"Invalid choice! Please try again.\")\n",
    "\n",
    "if __name__ == \"__main__\":\n",
    "    main()"
   ]
  },
  {
   "cell_type": "code",
   "execution_count": null,
   "id": "aa179c49-1186-4d45-8088-27a6c4f3e4e5",
   "metadata": {},
   "outputs": [],
   "source": []
  }
 ],
 "metadata": {
  "kernelspec": {
   "display_name": "Python 3 (ipykernel)",
   "language": "python",
   "name": "python3"
  },
  "language_info": {
   "codemirror_mode": {
    "name": "ipython",
    "version": 3
   },
   "file_extension": ".py",
   "mimetype": "text/x-python",
   "name": "python",
   "nbconvert_exporter": "python",
   "pygments_lexer": "ipython3",
   "version": "3.12.7"
  }
 },
 "nbformat": 4,
 "nbformat_minor": 5
}
